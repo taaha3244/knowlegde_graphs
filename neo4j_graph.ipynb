{
  "cells": [
    {
      "cell_type": "markdown",
      "metadata": {
        "id": "view-in-github",
        "colab_type": "text"
      },
      "source": [
        "<a href=\"https://colab.research.google.com/github/taaha3244/knowlegde_graphs/blob/main/neo4j_graph.ipynb\" target=\"_parent\"><img src=\"https://colab.research.google.com/assets/colab-badge.svg\" alt=\"Open In Colab\"/></a>"
      ]
    },
    {
      "cell_type": "code",
      "execution_count": null,
      "metadata": {
        "colab": {
          "base_uri": "https://localhost:8080/"
        },
        "collapsed": true,
        "id": "n7QsMp0dMfc8",
        "outputId": "73ff0b92-8078-4d49-cfe4-aa0e7be1c711"
      },
      "outputs": [
        {
          "name": "stdout",
          "output_type": "stream",
          "text": [
            "\u001b[2K     \u001b[90m━━━━━━━━━━━━━━━━━━━━━━━━━━━━━━━━━━━━━━━━\u001b[0m \u001b[32m973.5/973.5 kB\u001b[0m \u001b[31m4.3 MB/s\u001b[0m eta \u001b[36m0:00:00\u001b[0m\n",
            "\u001b[2K     \u001b[90m━━━━━━━━━━━━━━━━━━━━━━━━━━━━━━━━━━━━━━━━\u001b[0m \u001b[32m2.1/2.1 MB\u001b[0m \u001b[31m28.1 MB/s\u001b[0m eta \u001b[36m0:00:00\u001b[0m\n",
            "\u001b[2K     \u001b[90m━━━━━━━━━━━━━━━━━━━━━━━━━━━━━━━━━━━━━━━━\u001b[0m \u001b[32m199.5/199.5 kB\u001b[0m \u001b[31m10.0 MB/s\u001b[0m eta \u001b[36m0:00:00\u001b[0m\n",
            "\u001b[2K     \u001b[90m━━━━━━━━━━━━━━━━━━━━━━━━━━━━━━━━━━━━━━━━\u001b[0m \u001b[32m203.0/203.0 kB\u001b[0m \u001b[31m3.5 MB/s\u001b[0m eta \u001b[36m0:00:00\u001b[0m\n",
            "\u001b[?25h  Installing build dependencies ... \u001b[?25l\u001b[?25hdone\n",
            "  Getting requirements to build wheel ... \u001b[?25l\u001b[?25hdone\n",
            "  Installing backend dependencies ... \u001b[?25l\u001b[?25hdone\n",
            "  Preparing metadata (pyproject.toml) ... \u001b[?25l\u001b[?25hdone\n",
            "\u001b[2K     \u001b[90m━━━━━━━━━━━━━━━━━━━━━━━━━━━━━━━━━━━━━━━━\u001b[0m \u001b[32m308.5/308.5 kB\u001b[0m \u001b[31m26.6 MB/s\u001b[0m eta \u001b[36m0:00:00\u001b[0m\n",
            "\u001b[2K     \u001b[90m━━━━━━━━━━━━━━━━━━━━━━━━━━━━━━━━━━━━━━━━\u001b[0m \u001b[32m122.8/122.8 kB\u001b[0m \u001b[31m11.6 MB/s\u001b[0m eta \u001b[36m0:00:00\u001b[0m\n",
            "\u001b[2K     \u001b[90m━━━━━━━━━━━━━━━━━━━━━━━━━━━━━━━━━━━━━━━━\u001b[0m \u001b[32m320.6/320.6 kB\u001b[0m \u001b[31m27.2 MB/s\u001b[0m eta \u001b[36m0:00:00\u001b[0m\n",
            "\u001b[2K     \u001b[90m━━━━━━━━━━━━━━━━━━━━━━━━━━━━━━━━━━━━━━━━\u001b[0m \u001b[32m1.1/1.1 MB\u001b[0m \u001b[31m46.9 MB/s\u001b[0m eta \u001b[36m0:00:00\u001b[0m\n",
            "\u001b[2K     \u001b[90m━━━━━━━━━━━━━━━━━━━━━━━━━━━━━━━━━━━━━━━━\u001b[0m \u001b[32m49.3/49.3 kB\u001b[0m \u001b[31m5.1 MB/s\u001b[0m eta \u001b[36m0:00:00\u001b[0m\n",
            "\u001b[2K     \u001b[90m━━━━━━━━━━━━━━━━━━━━━━━━━━━━━━━━━━━━━━━━\u001b[0m \u001b[32m53.0/53.0 kB\u001b[0m \u001b[31m5.0 MB/s\u001b[0m eta \u001b[36m0:00:00\u001b[0m\n",
            "\u001b[2K     \u001b[90m━━━━━━━━━━━━━━━━━━━━━━━━━━━━━━━━━━━━━━━━\u001b[0m \u001b[32m142.5/142.5 kB\u001b[0m \u001b[31m8.1 MB/s\u001b[0m eta \u001b[36m0:00:00\u001b[0m\n",
            "\u001b[2K     \u001b[90m━━━━━━━━━━━━━━━━━━━━━━━━━━━━━━━━━━━━━━━━\u001b[0m \u001b[32m75.6/75.6 kB\u001b[0m \u001b[31m6.5 MB/s\u001b[0m eta \u001b[36m0:00:00\u001b[0m\n",
            "\u001b[2K     \u001b[90m━━━━━━━━━━━━━━━━━━━━━━━━━━━━━━━━━━━━━━━━\u001b[0m \u001b[32m77.9/77.9 kB\u001b[0m \u001b[31m7.3 MB/s\u001b[0m eta \u001b[36m0:00:00\u001b[0m\n",
            "\u001b[2K     \u001b[90m━━━━━━━━━━━━━━━━━━━━━━━━━━━━━━━━━━━━━━━━\u001b[0m \u001b[32m58.3/58.3 kB\u001b[0m \u001b[31m4.1 MB/s\u001b[0m eta \u001b[36m0:00:00\u001b[0m\n",
            "\u001b[?25h  Building wheel for neo4j (pyproject.toml) ... \u001b[?25l\u001b[?25hdone\n"
          ]
        }
      ],
      "source": [
        "%pip install --upgrade --quiet  langchain langchain-community langchain-openai langchain-experimental neo4j"
      ]
    },
    {
      "cell_type": "code",
      "execution_count": null,
      "metadata": {
        "id": "YfQ9pop4MnBb"
      },
      "outputs": [],
      "source": [
        "from langchain.docstore.document import Document\n",
        "from langchain.text_splitter import CharacterTextSplitter\n",
        "import os\n",
        "from langchain_community.vectorstores import Neo4jVector\n",
        "from langchain_openai import OpenAIEmbeddings\n",
        "from google.colab import userdata\n",
        "from langchain_experimental.graph_transformers import LLMGraphTransformer\n",
        "from langchain_openai import ChatOpenAI\n",
        "import os\n",
        "\n",
        "from langchain_community.graphs import Neo4jGraph\n",
        "from langchain_community.document_loaders import PyPDFLoader\n",
        "\n",
        "\n"
      ]
    },
    {
      "cell_type": "code",
      "execution_count": null,
      "metadata": {
        "colab": {
          "background_save": true
        },
        "id": "V4JfyiF8kUl-"
      },
      "outputs": [],
      "source": [
        "\n",
        "\n",
        "os.environ[\"NEO4J_URI\"] = \"bolt://localhost:7687\"\n",
        "os.environ[\"NEO4J_USERNAME\"] = \"neo4j\"\n",
        "os.environ[\"NEO4J_PASSWORD\"] = \"password\"\n",
        "\n",
        "graph = Neo4jGraph()"
      ]
    },
    {
      "cell_type": "code",
      "execution_count": null,
      "metadata": {
        "id": "pUc3-wkeSXQz"
      },
      "outputs": [],
      "source": [
        "openai=userdata.get('openai_api_key')"
      ]
    },
    {
      "cell_type": "code",
      "execution_count": null,
      "metadata": {
        "id": "PwkqamtRj4gl"
      },
      "outputs": [],
      "source": [
        "\n",
        "llm = ChatOpenAI(temperature=0, model_name=\"gpt-4-turbo\",openai_api_key=openai)\n",
        "\n",
        "llm_transformer = LLMGraphTransformer(llm=llm)"
      ]
    },
    {
      "cell_type": "code",
      "execution_count": null,
      "metadata": {
        "id": "c7Epg90CkOgd"
      },
      "outputs": [],
      "source": []
    },
    {
      "cell_type": "code",
      "execution_count": null,
      "metadata": {
        "id": "MnB1S-59NzBj"
      },
      "outputs": [],
      "source": [
        "loader = PyPDFLoader(\"/content/61ter RSCA.pdf\")\n",
        "documents = loader.load()\n",
        "text_splitter = CharacterTextSplitter(chunk_size=1000, chunk_overlap=0)\n",
        "docs = text_splitter.split_documents(documents)\n",
        "\n",
        "\n",
        "\n",
        "\n"
      ]
    },
    {
      "cell_type": "code",
      "execution_count": null,
      "metadata": {
        "colab": {
          "base_uri": "https://localhost:8080/"
        },
        "id": "WH1K828GSN7I",
        "outputId": "877b925d-d87f-4720-f5bf-7821c322b9c4"
      },
      "outputs": [
        {
          "data": {
            "text/plain": [
              "Document(page_content=\"», -ARRONDISSEMENT DE \\nBRUXELLES. \\nTRIBUNAL DE \\nPREMIERE INSTANCE \\nFRANCOPHONE \\nGreffe de l'instruction \\nVotre dossier n° : 2020/015 \\nGreffe n° : J12/15/20/79/20/A \\nSystème n° : 19CRO1939 +lon \\nBruxelles, 10-07-2020 . \\nTransmis à Madame le \\nJuge d'instruction \\nHeusghem \\nJ'ai l'honneur de vous faire parvenir une requête déposée par \\nSA Royal Sporting Club Anderlecht ayant pour conseils Me \\nCUPPENS Gert et Me TULKENS Nathan en vue de la \\nconsultation et la copie du dossier. \\nVeuillez également trouver en annexe une impression des \\ndonnées du Casier du Parquet. \\nJe vous en souhaite bonne réception et vous prie d'agréer \\nl'assurance de ma considération distinguée. \\nLe Greffi\", metadata={'source': '/content/61ter RSCA.pdf', 'page': 0})"
            ]
          },
          "execution_count": 27,
          "metadata": {},
          "output_type": "execute_result"
        }
      ],
      "source": [
        "docs[0]"
      ]
    },
    {
      "cell_type": "code",
      "execution_count": null,
      "metadata": {
        "id": "Tw9zWpkHSNQ3"
      },
      "outputs": [],
      "source": [
        "embeddings = OpenAIEmbeddings(model='text-embedding-3-small',openai_api_key=openai)\n",
        "\n",
        "# The Neo4jVector Module will connect to Neo4j and create a vector index if needed.\n",
        "\n",
        "db = Neo4jVector.from_documents(\n",
        "    docs, OpenAIEmbeddings(), url='neo4j+s://049ff890.databases.neo4j.io', username='neo4j', password='b2fEEAdr9oWGunOQ3qeEAJvnRHI5W37U8Sp_AGK14Kw'\n",
        ")\n",
        "\n"
      ]
    },
    {
      "cell_type": "code",
      "execution_count": null,
      "metadata": {
        "id": "M8T9yLtcV_3L"
      },
      "outputs": [],
      "source": [
        "query = \"What is the document about\"\n",
        "docs_with_score = db.similarity_search_with_score(query, k=2)"
      ]
    },
    {
      "cell_type": "code",
      "execution_count": null,
      "metadata": {
        "colab": {
          "base_uri": "https://localhost:8080/"
        },
        "id": "Rs83FUUDWLTs",
        "outputId": "25d6838a-dbbb-48ec-b4a8-70617da5424a"
      },
      "outputs": [
        {
          "data": {
            "text/plain": [
              "[(Document(page_content=\"ARRONDISSEMENT DE Bruxelles, 20-08-2020 \\nBRUXELLES \\nTRIBUNAL DE PREMIERE \\nINSTANCE \\nFRANCOPHONE Transmis à Madarïne le Juge \\nd'instruction Heusghem \\nGreffe de l'instruction \\nRéf. : J12/15/20/79/20/A1 \\nSystème n° : 19CRO1939 \\n” J'ai l'honneur de vous faire parvenir un extrait conforme d'une \\ndéclaration d'appel déposée par Me Tulkens Nathan et Me \\nCuppens Gert pour et au nom de la SA Royal Sporting Club \\nAnderlecht. \\nJe vous en souhaite bonne réception et vous prie d'agréer, \\nMadame le juge d'instruction, l'assurance de ma considération \\ndistinguée. \\nLe Greffier dél.,\", metadata={'source': '/content/61ter RSCA.pdf', 'page': 11}),\n",
              "  0.8825138211250305),\n",
              " (Document(page_content='‘ \\n: \\n3 \\n<7,. \\nÀ \\nNa \\n} \\n| \\ni \\nPER \\n# \\nHu \\nfEG TRIBUNAL \\nDE \\nPREMIERE \\nINSTANCE \\nFRANCOPHONE \\nDE \\nBRUXELLES Cabinet \\nde \\nMadame \\nle \\njuge \\nd\\'instruction \\nLaurence \\nHEUSGHEM . \\n| \\nPalais \\nde \\nJustice \\n— Portalis Rue \\ndes \\nQuatre-Bras, \\n4 | \\n1000 \\nBruxelles Li \\nOrdonnance ! \\nArticle \\n61ter \\nC.I.C. Personne \\ndirectémerit \\nintéressée \\nau \\nsens \\nde \\nl’article \\n21bis \\ndu \\nC.l.Cr.- \\nRefus \\nd\\'accès \\nau \\ndossier Dossier \\nn° \\n2020/015 Notice \\nn° \\nFD10.RL.106627/2019 Requête \\nn° \\nJM2/15/20/79/20/A .! \\n! Nous, \\nLaurence \\nHEUSGHEM, \\njuge \\nd\\'instruction \\nau \\ntribunal \\nde \\npremière \\nInstance francophone \\nde \\nBruxelles, vu \\nl\\'article \\n61ter \\ndu \\nCode \\nd\\'instruction \\nCriminelle \\n; Vu \\nle \\ndossier \\net \\nles \\npièces \\nde \\nla \\nprocédure \\njointes \\n; Vu \\nla \\nrequête \\nintroduite \\nle \\n09/07/2020, \\npar \\nla \\nSA \\nRSCA \\n, \\npersonne \\ndirectement \\nintéressée au \\nsens \\nde \\nl’article \\n21bis \\ndu \\ncode \\nd\\'instruction \\ncriminelle, \\nayant \\npour \\nconseil \\nMe \\nCUPPENS Gert \\net \\nMe \\nTULKENS \\nNathan, \\navocats, \\nnous \\ndemandant \\nde \\npouvoir \\nconsulter \\nle \\ndossier répressif \\ndont \\nles \\nréférences \\nsont \\nmentionnées \\nsous \\nrubrique; Vu \\nl\\'avis \\nconforme \\ndu \\nParquet \\nfédéral, eu Attendu \\nqu\\'il \\nn\\'y \\na \\npas \\nlieu \\nde \\nfaire \\ndroit \\nà \\ncette \\ndemande \\nétant \\ndonné \\nque \\n: les \\nnécessités \\nde \\nl\\'instruction \\nle \\nrequièrent, \\nla \\ndemande \\nétant \\nprématurée \\n; 29 — Par \\nces \\nmotifs, isons \\nla \\nrequête \\nrecevable \\nmais \\nnon \\nfondée \\net \\nrefusons, \\nen \\napplication \\nde \\nl\\'article \\n61ter \\n$ la \\ncommunication \\ndu \\ndossier \\nou \\nla \\npartie \\ndu \\ndossier \\nà \\nla \\npartie \\nrequérante. -\"O Fait \\net \\nmuni \\nde \\nnotre \\nsceau, \\nà Bruxelles, \\nle \\n08/08/2020 Le \\nJuge \\nd\\'instruction Laurer£e \\nHEUSGHEM \\n\\\\', metadata={'source': '/content/61ter RSCA.pdf', 'page': 10}),\n",
              "  0.8818801045417786)]"
            ]
          },
          "execution_count": 30,
          "metadata": {},
          "output_type": "execute_result"
        }
      ],
      "source": [
        "docs_with_score"
      ]
    }
  ],
  "metadata": {
    "colab": {
      "provenance": [],
      "authorship_tag": "ABX9TyNdYG9yM3aQfpfhGVrNjPwG",
      "include_colab_link": true
    },
    "kernelspec": {
      "display_name": "Python 3",
      "name": "python3"
    },
    "language_info": {
      "name": "python"
    }
  },
  "nbformat": 4,
  "nbformat_minor": 0
}